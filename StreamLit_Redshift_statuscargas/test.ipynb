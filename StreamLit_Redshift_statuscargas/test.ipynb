{
 "cells": [
  {
   "cell_type": "code",
   "execution_count": 1,
   "metadata": {},
   "outputs": [],
   "source": [
    "import os\n",
    "import psycopg2\n",
    "import pandas as pd\n",
    "import streamlit as st\n",
    "from dotenv import load_dotenv\n",
    "\n",
    "# Load environment variables from .env file\n",
    "load_dotenv()\n",
    "\n",
    "# Configuración de la conexión\n",
    "conn_params = {\n",
    "    'host': os.getenv('HOST'),\n",
    "    'port': os.getenv('PORT'),\n",
    "    'dbname': os.getenv('DBNAME'),\n",
    "    'user': os.getenv('USERNAMES'),\n",
    "    'password': os.getenv('PASSWORD'),\n",
    "}\n"
   ]
  },
  {
   "cell_type": "code",
   "execution_count": 2,
   "metadata": {},
   "outputs": [],
   "source": [
    "# Conectar a Redshift y obtener datos\n",
    "def get_data():\n",
    "    conn = None\n",
    "    try:\n",
    "        conn = psycopg2.connect(**conn_params)\n",
    "        print(\"Conexión exitosa\")\n",
    "\n",
    "        # Crear un cursor\n",
    "        cursor = conn.cursor()\n",
    "\n",
    "        # Ejecutar la consulta\n",
    "        query = \"SELECT country, fuente, source, fecha, diferencia_dias, status FROM INFORMATION_DELIVERY_PROD.mfs_marketing.rm_lending_status;\"\n",
    "        cursor.execute(query)\n",
    "\n",
    "        # Obtener los resultados y convertirlos a un DataFrame de Pandas\n",
    "        columns = [desc[0] for desc in cursor.description]\n",
    "        results = cursor.fetchall()\n",
    "        df = pd.DataFrame(results, columns=columns)\n",
    "\n",
    "        return df\n",
    "\n",
    "    except Exception as e:\n",
    "        print(f\"Error: {e}\")\n",
    "        return pd.DataFrame()  # Devolver un DataFrame vacío en caso de error\n",
    "\n",
    "    finally:\n",
    "        if conn:\n",
    "            cursor.close()\n",
    "            conn.close()\n",
    "            print(\"Conexión cerrada\")\n"
   ]
  },
  {
   "cell_type": "code",
   "execution_count": 5,
   "metadata": {},
   "outputs": [
    {
     "name": "stdout",
     "output_type": "stream",
     "text": [
      "Conexión exitosa\n",
      "Conexión cerrada\n",
      "Tipos de datos en el DataFrame:\n",
      "country            object\n",
      "fuente             object\n",
      "source             object\n",
      "fecha              object\n",
      "diferencia_dias     int64\n",
      "status              int64\n",
      "dtype: object\n",
      "Primeros registros del DataFrame:\n",
      "  country                         fuente source       fecha  diferencia_dias  \\\n",
      "0      PY       LENDING_RISK_PY_SCORE_V2   RISK  2024-05-27               14   \n",
      "1      PY  INFO_MMB_PY_LOAN_TRANSACTIONS    MMB  2024-06-09                1   \n",
      "2      PY    INFO_MMB_PY_LOAN_REPAYMENTS    MMB  2024-06-09                1   \n",
      "3      PY      INFO_MMB_PY_LOAN_ACCOUNTS    MMB  2024-06-09                1   \n",
      "4      PY       INFO_MMB_PY_INSTALLMENTS    MMB  2024-06-09                1   \n",
      "\n",
      "   status  \n",
      "0       0  \n",
      "1       0  \n",
      "2       0  \n",
      "3       0  \n",
      "4       0  \n"
     ]
    }
   ],
   "source": [
    "# Llamar a la función para obtener los datos\n",
    "df = get_data()\n",
    "\n",
    "# Inspeccionar los tipos de datos de las columnas\n",
    "print(\"Tipos de datos en el DataFrame:\")\n",
    "print(df.dtypes)\n",
    "\n",
    "# Inspeccionar los primeros registros para ver los valores\n",
    "print(\"Primeros registros del DataFrame:\")\n",
    "print(df.head())\n"
   ]
  },
  {
   "cell_type": "code",
   "execution_count": 6,
   "metadata": {},
   "outputs": [
    {
     "name": "stdout",
     "output_type": "stream",
     "text": [
      "Conexión exitosa\n",
      "Conexión cerrada\n",
      "Todos los registros del DataFrame:\n",
      "   country                           fuente source       fecha  diferencia_dias  status\n",
      "0       PY         LENDING_RISK_PY_SCORE_V2   RISK  2024-05-27               14       0\n",
      "1       PY    INFO_MMB_PY_LOAN_TRANSACTIONS    MMB  2024-06-09                1       0\n",
      "2       PY      INFO_MMB_PY_LOAN_REPAYMENTS    MMB  2024-06-09                1       0\n",
      "3       PY        INFO_MMB_PY_LOAN_ACCOUNTS    MMB  2024-06-09                1       0\n",
      "4       PY         INFO_MMB_PY_INSTALLMENTS    MMB  2024-06-09                1       0\n",
      "5       PY   INFO_MMB_PY_GL_JOURNAL_ENTRIES    MMB  2024-06-09                1       0\n",
      "6       PY  INFO_MMB_PY_CREDIT_ARRANGEMENTS    MMB  2024-06-09                1       0\n",
      "7       PY              INFO_MMB_PY_CLIENTS    MMB  2024-06-09                1       0\n",
      "8       PY        INFO_DYN_PY_PAYMENTOFFERS    DYN  2024-05-28               13       0\n",
      "9       PY  INFO_DYN_PY_LOANOFFERSMOVEMENTS    DYN  2024-06-08                2       0\n",
      "10      PY                 INFO_DYN_PY_LOAN    DYN  2024-06-08                2       0\n",
      "11      PY     INFO_DYN_PY_LENDING_PAYMENTS    DYN  2024-06-08                2       0\n",
      "12      PY  INFO_DYN_PY_LENDING_LOAN_OFFERS    DYN  2024-06-08                2       0\n",
      "13      PY               INFO_DYN_PY_CLIENT    DYN  2024-06-08                2       0\n"
     ]
    }
   ],
   "source": [
    "# Llamar a la función para obtener los datos\n",
    "df = get_data()\n",
    "\n",
    "# Imprimir todos los registros del DataFrame para verificar\n",
    "print(\"Todos los registros del DataFrame:\")\n",
    "print(df.to_string())\n"
   ]
  }
 ],
 "metadata": {
  "kernelspec": {
   "display_name": "Python 3",
   "language": "python",
   "name": "python3"
  },
  "language_info": {
   "codemirror_mode": {
    "name": "ipython",
    "version": 3
   },
   "file_extension": ".py",
   "mimetype": "text/x-python",
   "name": "python",
   "nbconvert_exporter": "python",
   "pygments_lexer": "ipython3",
   "version": "3.12.3"
  }
 },
 "nbformat": 4,
 "nbformat_minor": 2
}
